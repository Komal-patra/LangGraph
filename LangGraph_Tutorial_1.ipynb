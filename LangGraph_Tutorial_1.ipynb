{
  "nbformat": 4,
  "nbformat_minor": 0,
  "metadata": {
    "colab": {
      "provenance": []
    },
    "kernelspec": {
      "name": "python3",
      "display_name": "Python 3"
    },
    "language_info": {
      "name": "python"
    }
  },
  "cells": [
    {
      "cell_type": "code",
      "execution_count": 1,
      "metadata": {
        "id": "Z4mzUVdMPs4F"
      },
      "outputs": [],
      "source": [
        "!pip install -q -U langgraph langsmith"
      ]
    },
    {
      "cell_type": "code",
      "source": [
        "!pip install -q -U langchain langchain_groq langchain_community"
      ],
      "metadata": {
        "id": "4noJiRDsP50w"
      },
      "execution_count": 2,
      "outputs": []
    },
    {
      "cell_type": "code",
      "source": [
        "from google.colab import userdata"
      ],
      "metadata": {
        "id": "fHlqpNPZQD0K"
      },
      "execution_count": 3,
      "outputs": []
    },
    {
      "cell_type": "code",
      "source": [
        "groq_api_key = userdata.get('GROQ_API_KEY')\n"
      ],
      "metadata": {
        "id": "UcIOMO5rQI7_"
      },
      "execution_count": 4,
      "outputs": []
    },
    {
      "cell_type": "code",
      "source": [
        "langsmith_api_key = userdata.get('LANGSMITH_API_KEY')"
      ],
      "metadata": {
        "id": "74O1Ji5-QlNM"
      },
      "execution_count": 5,
      "outputs": []
    },
    {
      "cell_type": "code",
      "source": [
        "import os\n",
        "os.environ['GROQ_API_KEY'] = groq_api_key\n",
        "os.environ['LANGCHAIN_TRACING_V2'] = 'true'\n",
        "os.environ['LANGCHAIN_ENDPOINT'] = 'https://api.smith.langchain.com'\n",
        "os.environ['LANGCHAIN_API_KEY'] = langsmith_api_key\n",
        "os.environ['LANGCHAIN_PROJECT'] = 'LangGraphTutorial1'"
      ],
      "metadata": {
        "id": "iRX_eD1_RBkk"
      },
      "execution_count": 6,
      "outputs": []
    },
    {
      "cell_type": "code",
      "source": [
        "from langchain_groq import ChatGroq\n",
        "\n",
        "llm = ChatGroq(groq_api_key=groq_api_key, model_name=\"Gemma2-9b-It\")"
      ],
      "metadata": {
        "id": "neA3tkdDRf8d"
      },
      "execution_count": 7,
      "outputs": []
    },
    {
      "cell_type": "markdown",
      "source": [
        "### Building Chatbot using LangGraph"
      ],
      "metadata": {
        "id": "knnUfdY3Sbqm"
      }
    },
    {
      "cell_type": "code",
      "source": [
        "from typing import Annotated\n",
        "from typing_extensions import TypedDict\n",
        "from langgraph.graph import StateGraph, START, END\n",
        "from langgraph.graph.message import add_messages"
      ],
      "metadata": {
        "id": "GP-snlb8SVut"
      },
      "execution_count": 8,
      "outputs": []
    },
    {
      "cell_type": "code",
      "source": [
        "class State(TypedDict):\n",
        "  ''' Messages have the type \"list\". The 'add_messages' function in the annotation defines\n",
        "  how these state key should be updated (in this case, it appends messages to the list, rather than overwriting them)\n",
        "  '''\n",
        "  messages: Annotated[list, add_messages]\n",
        "\n",
        "graph_builder = StateGraph(State)"
      ],
      "metadata": {
        "id": "PiKpHOUETXtn"
      },
      "execution_count": 9,
      "outputs": []
    },
    {
      "cell_type": "code",
      "source": [
        "graph_builder"
      ],
      "metadata": {
        "colab": {
          "base_uri": "https://localhost:8080/"
        },
        "id": "TRcdIlTJU_Yn",
        "outputId": "3d905030-d507-4231-d54f-584251880f71"
      },
      "execution_count": 10,
      "outputs": [
        {
          "output_type": "execute_result",
          "data": {
            "text/plain": [
              "<langgraph.graph.state.StateGraph at 0x7bd7862c16f0>"
            ]
          },
          "metadata": {},
          "execution_count": 10
        }
      ]
    },
    {
      "cell_type": "code",
      "source": [
        "def Chatbot(state:State):\n",
        "  return{\"messages \":llm.invoke(state['messages'])}"
      ],
      "metadata": {
        "id": "tAqj6MZAVAn0"
      },
      "execution_count": 11,
      "outputs": []
    },
    {
      "cell_type": "code",
      "source": [
        "graph_builder.add_node(\"Chatbot\",Chatbot)"
      ],
      "metadata": {
        "colab": {
          "base_uri": "https://localhost:8080/"
        },
        "id": "wF8r3MDiWkCA",
        "outputId": "844af742-b0f4-4236-8d70-583992c6c6a1"
      },
      "execution_count": 12,
      "outputs": [
        {
          "output_type": "execute_result",
          "data": {
            "text/plain": [
              "<langgraph.graph.state.StateGraph at 0x7bd7862c16f0>"
            ]
          },
          "metadata": {},
          "execution_count": 12
        }
      ]
    },
    {
      "cell_type": "code",
      "source": [
        "graph_builder.add_edge(START,\"Chatbot\")\n",
        "graph_builder.add_edge(\"Chatbot\",END)"
      ],
      "metadata": {
        "colab": {
          "base_uri": "https://localhost:8080/"
        },
        "id": "SwTdLR1QWqJP",
        "outputId": "844e8303-67e5-44df-8f07-4a15c6c79ce5"
      },
      "execution_count": 13,
      "outputs": [
        {
          "output_type": "execute_result",
          "data": {
            "text/plain": [
              "<langgraph.graph.state.StateGraph at 0x7bd7862c16f0>"
            ]
          },
          "metadata": {},
          "execution_count": 13
        }
      ]
    },
    {
      "cell_type": "code",
      "source": [
        "graph = graph_builder.compile()"
      ],
      "metadata": {
        "id": "eWFsMJIlXGy8"
      },
      "execution_count": 14,
      "outputs": []
    },
    {
      "cell_type": "code",
      "source": [
        "from IPython.display import Image, display\n",
        "try:\n",
        "  display(Image(graph.get_graph().draw_mermaid_png()))\n",
        "except Exception:\n",
        "  pass"
      ],
      "metadata": {
        "colab": {
          "base_uri": "https://localhost:8080/",
          "height": 251
        },
        "id": "oatO2QFLXLpy",
        "outputId": "a9738ac3-2271-4d95-cdd3-7d4971f279bb"
      },
      "execution_count": 15,
      "outputs": [
        {
          "output_type": "display_data",
          "data": {
            "image/jpeg": "[encoded data removed]",
            "text/plain": [
              "<IPython.core.display.Image object>"
            ]
          },
          "metadata": {}
        }
      ]
    },
    {
      "source": [
        "while True:\n",
        "    user_input = input(\"User: \")\n",
        "    if user_input.lower() in [\"quit\", \"q\"]:\n",
        "        print(\"Good Bye\")\n",
        "        break\n",
        "    # Format the input properly as a list of tuples\n",
        "    state = {'messages': [('user', user_input)]}\n",
        "\n",
        "    # Stream through the graph\n",
        "    for event in graph.stream(state):\n",
        "        for value in event.values():\n",
        "            # Access the content attribute using dot notation\n",
        "            print(\"Assistant:\", value['messages'].content)"
      ],
      "cell_type": "code",
      "metadata": {
        "colab": {
          "base_uri": "https://localhost:8080/"
        },
        "id": "gWAyA62Yc4Zi",
        "outputId": "e66a857d-b149-44dc-fac0-a6adeee37c7a"
      },
      "execution_count": 22,
      "outputs": [
        {
          "output_type": "stream",
          "name": "stdout",
          "text": [
            "User: Hello\n",
            "Assistant: Hello! 👋  How can I help you today? 😊\n",
            "\n",
            "User: what is generative AI\n",
            "Assistant: Generative AI is a type of artificial intelligence that focuses on creating new content. \n",
            "\n",
            "Instead of simply analyzing existing data like traditional AI, generative AI learns the underlying patterns and structures within that data and uses that knowledge to produce something original. \n",
            "\n",
            "Think of it like this:\n",
            "\n",
            "* **Traditional AI:**  Recognizes a cat in a picture.\n",
            "* **Generative AI:**  Creates a new picture of a cat that doesn't exist anywhere else.\n",
            "\n",
            "Here are some key things to know about generative AI:\n",
            "\n",
            "* **Types of Content:**  Generative AI can create a wide range of content, including:\n",
            "    * **Text:**  Stories, poems, articles, code, dialogue\n",
            "    * **Images:**  Photos, paintings, illustrations\n",
            "    * **Audio:**  Music, sound effects, voiceovers\n",
            "    * **Video:**  Short clips, animations\n",
            "    * **3D Models:**  Objects, characters, environments\n",
            "* **How it Works:** Generative AI models are often trained on massive datasets of existing content. They learn the statistical relationships between different elements in that data. Then, they use that knowledge to generate new content by predicting the next element in a sequence.\n",
            "* **Popular Examples:**\n",
            "    * **DALL-E 2:** Creates images from text descriptions.\n",
            "    * **ChatGPT:**  Generates human-like text in response to prompts.\n",
            "    * **Jukebox:**  Creates music in different styles.\n",
            "\n",
            "Generative AI is a rapidly evolving field with immense potential to transform many industries, from art and entertainment to education and healthcare.\n",
            "\n",
            "User: How to create images using AI\n",
            "Assistant: You're asking how to use AI to create images! That's a really exciting field. \n",
            "\n",
            "Here's a breakdown of how to get started:\n",
            "\n",
            "**1. Understand the Types of AI Image Generation**\n",
            "\n",
            "There are two main approaches:\n",
            "\n",
            "* **Text-to-Image AI:** These models take your written descriptions (text prompts) and generate corresponding images. Examples include:\n",
            "    * **DALL-E 2** (OpenAI): Known for its high-quality, realistic images.\n",
            "    * **Midjourney:**  Accessible through a Discord server, known for artistic and imaginative results.\n",
            "    * **Stable Diffusion:** Open-source and highly customizable.\n",
            "    * **Craiyon (formerly DALL-E mini):** A free, web-based option, good for quick experiments.\n",
            "\n",
            "* **Image-to-Image AI:** These models take an existing image and modify it based on your instructions. They can be used for things like:\n",
            "    * **Upscaling:** Making images larger and sharper.\n",
            "    * **Style Transfer:** Applying the artistic style of one image to another.\n",
            "    * **Inpainting:** Filling in missing parts of an image.\n",
            "\n",
            "**2. Choose Your Tool**\n",
            "\n",
            "* **For beginners:** Craiyon is a fun, easy-to-use starting point.\n",
            "* **For high-quality results:** DALL-E 2 or Midjourney are excellent choices.\n",
            "* **For customization and control:** Stable Diffusion is a powerful open-source option.\n",
            "\n",
            "**3. Learn the Prompting Language**\n",
            "\n",
            "* **Be specific:** The more detail you provide in your text prompt, the better the AI will understand what you want.\n",
            "* **Use keywords:** Think about the essential elements of the image you envision.\n",
            "* **Experiment with style:**  You can guide the AI's style by including words like \"realistic,\" \"impressionistic,\" or \"surreal.\"\n",
            "* **Iterate:**  Don't be afraid to refine your prompts based on the initial results.\n",
            "\n",
            "**4. Get Creative!**\n",
            "\n",
            "* **Explore different concepts:**  AI image generation is a limitless playground for your imagination.\n",
            "* **Combine ideas:**  Mix and match elements from different prompts to create something unique.\n",
            "* **Use AI as a collaborator:**  Let the AI generate ideas and then build upon them with your own artistic touch.\n",
            "\n",
            "**Resources:**\n",
            "\n",
            "* **OpenAI's DALL-E 2:** [https://openai.com/dall-e-2/](https://openai.com/dall-e-2/)\n",
            "* **Midjourney:** [https://www.midjourney.com/](https://www.midjourney.com/)\n",
            "* **Stable Diffusion:** [https://stablediffusionweb.com/](https://stablediffusionweb.com/)\n",
            "* **Craiyon:** [https://www.craiyon.com/](https://www.craiyon.com/)\n",
            "\n",
            "Have fun creating!\n",
            "\n",
            "User: is Dalle-2 better from Midjourney?\n",
            "Assistant: The question of whether DALL-E 2 or Midjourney is \"better\" is subjective and depends heavily on individual needs and preferences. \n",
            "\n",
            "Here's a breakdown of their strengths and weaknesses to help you decide:\n",
            "\n",
            "**DALL-E 2:**\n",
            "\n",
            "* **Strengths:**\n",
            "    * **Photorealism:** DALL-E 2 excels at generating incredibly realistic images, often indistinguishable from photographs.\n",
            "    * **Textual Understanding:** It demonstrates a strong grasp of complex and nuanced prompts, allowing for highly specific and detailed creations.\n",
            "    * **Inpainting and Outpainting:** DALL-E 2 can seamlessly edit existing images by \"inpainting\" (filling in missing parts) or \"outpainting\" (extending the canvas).\n",
            "* **Weaknesses:**\n",
            "    * **Limited Artistic Style:** While it can produce various styles, it might not be as adept at mimicking specific artistic movements or aesthetics as Midjourney.\n",
            "    * **Lower Resolution Output:** DALL-E 2's free tier limits resolution, and even paid tiers have lower resolution compared to Midjourney's highest quality settings.\n",
            "    * **Closed Source:** DALL-E 2 is not open-source, meaning users have less control over its development and customization.\n",
            "\n",
            "**Midjourney:**\n",
            "\n",
            "* **Strengths:**\n",
            "    * **Artistic Flair:** Midjourney is known for its ability to generate images with a distinct artistic style, often dreamlike and imaginative.\n",
            "    * **High Resolution Output:** Midjourney offers high-resolution image generation, suitable for printing and large-scale displays.\n",
            "    * **Community and Collaboration:** Its Discord-based platform fosters a vibrant community of users who share creations, provide feedback, and collaborate on projects.\n",
            "* **Weaknesses:**\n",
            "    * **Less Precise Textual Control:** While Midjourney understands prompts well, it might not be as accurate in interpreting highly specific instructions as DALL-E 2.\n",
            "    * **Limited Inpainting and Outpainting:** These features are less developed in Midjourney compared to DALL-E 2.\n",
            "    * **Subscription-Based:** Access to Midjourney requires a paid subscription, while DALL-E 2 offers a free tier with limitations.\n",
            "\n",
            "\n",
            "**In Conclusion:**\n",
            "\n",
            "* Choose **DALL-E 2** if you prioritize photorealism, precise control over details, and inpainting/outpainting capabilities.\n",
            "* Choose **Midjourney** if you value artistic style, high-resolution output, and the collaborative community aspect.\n",
            "\n",
            "Ultimately, the best way to decide is to experiment with both platforms and see which one better suits your creative vision and workflow.\n",
            "\n",
            "User: q\n",
            "Good Bye\n"
          ]
        }
      ]
    },
    {
      "cell_type": "code",
      "source": [],
      "metadata": {
        "id": "sdGdAoJHcOXp"
      },
      "execution_count": null,
      "outputs": []
    }
  ]
}